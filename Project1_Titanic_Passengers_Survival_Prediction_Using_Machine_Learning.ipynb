{
  "nbformat": 4,
  "nbformat_minor": 0,
  "metadata": {
    "colab": {
      "provenance": []
    },
    "kernelspec": {
      "name": "python3",
      "display_name": "Python 3"
    },
    "language_info": {
      "name": "python"
    }
  },
  "cells": [
    {
      "cell_type": "markdown",
      "source": [
        "# **1.Importing the required Python libraries**"
      ],
      "metadata": {
        "id": "ND44xbHtRV1g"
      }
    },
    {
      "cell_type": "code",
      "source": [
        "import numpy as np\n",
        "import pandas as pd\n",
        "import matplotlib.pyplot as plt\n",
        "import seaborn as sns\n",
        "from sklearn.model_selection import train_test_split\n",
        "from sklearn.linear_model import LogisticRegression\n",
        "from sklearn.metrics import accuracy_score\n",
        "\n",
        "print(\"All the required libraries has been imported successfully !!!\")"
      ],
      "metadata": {
        "colab": {
          "base_uri": "https://localhost:8080/"
        },
        "id": "6XZmu8wCRp3b",
        "outputId": "3f797042-3e00-4233-bc3c-bab9b195a083"
      },
      "execution_count": 4,
      "outputs": [
        {
          "output_type": "stream",
          "name": "stdout",
          "text": [
            "All the required libraries has been imported successfully !!!\n"
          ]
        }
      ]
    },
    {
      "cell_type": "markdown",
      "source": [
        "# **2.Loading and Understanding the given dataset**"
      ],
      "metadata": {
        "id": "2v-XCadRTSeS"
      }
    },
    {
      "cell_type": "code",
      "source": [
        "# Load the data from csv file to Pandas DataFrame\n",
        "\n",
        "titanic_data = pd.read_csv('/content/drive/MyDrive/ML,DS_Project_Datasets/Titanic_Dataset/train.csv')"
      ],
      "metadata": {
        "id": "UwUJ5KPHTfpL"
      },
      "execution_count": 60,
      "outputs": []
    },
    {
      "cell_type": "code",
      "source": [
        "# printing the first five rows of the dataframe\n",
        "\n",
        "titanic_data.head()"
      ],
      "metadata": {
        "colab": {
          "base_uri": "https://localhost:8080/",
          "height": 206
        },
        "id": "QyiHjoHdULrC",
        "outputId": "32c10f5d-d039-449d-9e3f-86642474750b"
      },
      "execution_count": 6,
      "outputs": [
        {
          "output_type": "execute_result",
          "data": {
            "text/plain": [
              "   PassengerId  Survived  Pclass  \\\n",
              "0            1         0       3   \n",
              "1            2         1       1   \n",
              "2            3         1       3   \n",
              "3            4         1       1   \n",
              "4            5         0       3   \n",
              "\n",
              "                                                Name     Sex   Age  SibSp  \\\n",
              "0                            Braund, Mr. Owen Harris    male  22.0      1   \n",
              "1  Cumings, Mrs. John Bradley (Florence Briggs Th...  female  38.0      1   \n",
              "2                             Heikkinen, Miss. Laina  female  26.0      0   \n",
              "3       Futrelle, Mrs. Jacques Heath (Lily May Peel)  female  35.0      1   \n",
              "4                           Allen, Mr. William Henry    male  35.0      0   \n",
              "\n",
              "   Parch            Ticket     Fare Cabin Embarked  \n",
              "0      0         A/5 21171   7.2500   NaN        S  \n",
              "1      0          PC 17599  71.2833   C85        C  \n",
              "2      0  STON/O2. 3101282   7.9250   NaN        S  \n",
              "3      0            113803  53.1000  C123        S  \n",
              "4      0            373450   8.0500   NaN        S  "
            ],
            "text/html": [
              "\n",
              "  <div id=\"df-ef5f86ef-f079-45b7-8765-3737848fd13f\" class=\"colab-df-container\">\n",
              "    <div>\n",
              "<style scoped>\n",
              "    .dataframe tbody tr th:only-of-type {\n",
              "        vertical-align: middle;\n",
              "    }\n",
              "\n",
              "    .dataframe tbody tr th {\n",
              "        vertical-align: top;\n",
              "    }\n",
              "\n",
              "    .dataframe thead th {\n",
              "        text-align: right;\n",
              "    }\n",
              "</style>\n",
              "<table border=\"1\" class=\"dataframe\">\n",
              "  <thead>\n",
              "    <tr style=\"text-align: right;\">\n",
              "      <th></th>\n",
              "      <th>PassengerId</th>\n",
              "      <th>Survived</th>\n",
              "      <th>Pclass</th>\n",
              "      <th>Name</th>\n",
              "      <th>Sex</th>\n",
              "      <th>Age</th>\n",
              "      <th>SibSp</th>\n",
              "      <th>Parch</th>\n",
              "      <th>Ticket</th>\n",
              "      <th>Fare</th>\n",
              "      <th>Cabin</th>\n",
              "      <th>Embarked</th>\n",
              "    </tr>\n",
              "  </thead>\n",
              "  <tbody>\n",
              "    <tr>\n",
              "      <th>0</th>\n",
              "      <td>1</td>\n",
              "      <td>0</td>\n",
              "      <td>3</td>\n",
              "      <td>Braund, Mr. Owen Harris</td>\n",
              "      <td>male</td>\n",
              "      <td>22.0</td>\n",
              "      <td>1</td>\n",
              "      <td>0</td>\n",
              "      <td>A/5 21171</td>\n",
              "      <td>7.2500</td>\n",
              "      <td>NaN</td>\n",
              "      <td>S</td>\n",
              "    </tr>\n",
              "    <tr>\n",
              "      <th>1</th>\n",
              "      <td>2</td>\n",
              "      <td>1</td>\n",
              "      <td>1</td>\n",
              "      <td>Cumings, Mrs. John Bradley (Florence Briggs Th...</td>\n",
              "      <td>female</td>\n",
              "      <td>38.0</td>\n",
              "      <td>1</td>\n",
              "      <td>0</td>\n",
              "      <td>PC 17599</td>\n",
              "      <td>71.2833</td>\n",
              "      <td>C85</td>\n",
              "      <td>C</td>\n",
              "    </tr>\n",
              "    <tr>\n",
              "      <th>2</th>\n",
              "      <td>3</td>\n",
              "      <td>1</td>\n",
              "      <td>3</td>\n",
              "      <td>Heikkinen, Miss. Laina</td>\n",
              "      <td>female</td>\n",
              "      <td>26.0</td>\n",
              "      <td>0</td>\n",
              "      <td>0</td>\n",
              "      <td>STON/O2. 3101282</td>\n",
              "      <td>7.9250</td>\n",
              "      <td>NaN</td>\n",
              "      <td>S</td>\n",
              "    </tr>\n",
              "    <tr>\n",
              "      <th>3</th>\n",
              "      <td>4</td>\n",
              "      <td>1</td>\n",
              "      <td>1</td>\n",
              "      <td>Futrelle, Mrs. Jacques Heath (Lily May Peel)</td>\n",
              "      <td>female</td>\n",
              "      <td>35.0</td>\n",
              "      <td>1</td>\n",
              "      <td>0</td>\n",
              "      <td>113803</td>\n",
              "      <td>53.1000</td>\n",
              "      <td>C123</td>\n",
              "      <td>S</td>\n",
              "    </tr>\n",
              "    <tr>\n",
              "      <th>4</th>\n",
              "      <td>5</td>\n",
              "      <td>0</td>\n",
              "      <td>3</td>\n",
              "      <td>Allen, Mr. William Henry</td>\n",
              "      <td>male</td>\n",
              "      <td>35.0</td>\n",
              "      <td>0</td>\n",
              "      <td>0</td>\n",
              "      <td>373450</td>\n",
              "      <td>8.0500</td>\n",
              "      <td>NaN</td>\n",
              "      <td>S</td>\n",
              "    </tr>\n",
              "  </tbody>\n",
              "</table>\n",
              "</div>\n",
              "    <div class=\"colab-df-buttons\">\n",
              "\n",
              "  <div class=\"colab-df-container\">\n",
              "    <button class=\"colab-df-convert\" onclick=\"convertToInteractive('df-ef5f86ef-f079-45b7-8765-3737848fd13f')\"\n",
              "            title=\"Convert this dataframe to an interactive table.\"\n",
              "            style=\"display:none;\">\n",
              "\n",
              "  <svg xmlns=\"http://www.w3.org/2000/svg\" height=\"24px\" viewBox=\"0 -960 960 960\">\n",
              "    <path d=\"M120-120v-720h720v720H120Zm60-500h600v-160H180v160Zm220 220h160v-160H400v160Zm0 220h160v-160H400v160ZM180-400h160v-160H180v160Zm440 0h160v-160H620v160ZM180-180h160v-160H180v160Zm440 0h160v-160H620v160Z\"/>\n",
              "  </svg>\n",
              "    </button>\n",
              "\n",
              "  <style>\n",
              "    .colab-df-container {\n",
              "      display:flex;\n",
              "      gap: 12px;\n",
              "    }\n",
              "\n",
              "    .colab-df-convert {\n",
              "      background-color: #E8F0FE;\n",
              "      border: none;\n",
              "      border-radius: 50%;\n",
              "      cursor: pointer;\n",
              "      display: none;\n",
              "      fill: #1967D2;\n",
              "      height: 32px;\n",
              "      padding: 0 0 0 0;\n",
              "      width: 32px;\n",
              "    }\n",
              "\n",
              "    .colab-df-convert:hover {\n",
              "      background-color: #E2EBFA;\n",
              "      box-shadow: 0px 1px 2px rgba(60, 64, 67, 0.3), 0px 1px 3px 1px rgba(60, 64, 67, 0.15);\n",
              "      fill: #174EA6;\n",
              "    }\n",
              "\n",
              "    .colab-df-buttons div {\n",
              "      margin-bottom: 4px;\n",
              "    }\n",
              "\n",
              "    [theme=dark] .colab-df-convert {\n",
              "      background-color: #3B4455;\n",
              "      fill: #D2E3FC;\n",
              "    }\n",
              "\n",
              "    [theme=dark] .colab-df-convert:hover {\n",
              "      background-color: #434B5C;\n",
              "      box-shadow: 0px 1px 3px 1px rgba(0, 0, 0, 0.15);\n",
              "      filter: drop-shadow(0px 1px 2px rgba(0, 0, 0, 0.3));\n",
              "      fill: #FFFFFF;\n",
              "    }\n",
              "  </style>\n",
              "\n",
              "    <script>\n",
              "      const buttonEl =\n",
              "        document.querySelector('#df-ef5f86ef-f079-45b7-8765-3737848fd13f button.colab-df-convert');\n",
              "      buttonEl.style.display =\n",
              "        google.colab.kernel.accessAllowed ? 'block' : 'none';\n",
              "\n",
              "      async function convertToInteractive(key) {\n",
              "        const element = document.querySelector('#df-ef5f86ef-f079-45b7-8765-3737848fd13f');\n",
              "        const dataTable =\n",
              "          await google.colab.kernel.invokeFunction('convertToInteractive',\n",
              "                                                    [key], {});\n",
              "        if (!dataTable) return;\n",
              "\n",
              "        const docLinkHtml = 'Like what you see? Visit the ' +\n",
              "          '<a target=\"_blank\" href=https://colab.research.google.com/notebooks/data_table.ipynb>data table notebook</a>'\n",
              "          + ' to learn more about interactive tables.';\n",
              "        element.innerHTML = '';\n",
              "        dataTable['output_type'] = 'display_data';\n",
              "        await google.colab.output.renderOutput(dataTable, element);\n",
              "        const docLink = document.createElement('div');\n",
              "        docLink.innerHTML = docLinkHtml;\n",
              "        element.appendChild(docLink);\n",
              "      }\n",
              "    </script>\n",
              "  </div>\n",
              "\n",
              "\n",
              "<div id=\"df-ddc9a478-07fe-4af3-8ed0-80fbd8b4f98b\">\n",
              "  <button class=\"colab-df-quickchart\" onclick=\"quickchart('df-ddc9a478-07fe-4af3-8ed0-80fbd8b4f98b')\"\n",
              "            title=\"Suggest charts.\"\n",
              "            style=\"display:none;\">\n",
              "\n",
              "<svg xmlns=\"http://www.w3.org/2000/svg\" height=\"24px\"viewBox=\"0 0 24 24\"\n",
              "     width=\"24px\">\n",
              "    <g>\n",
              "        <path d=\"M19 3H5c-1.1 0-2 .9-2 2v14c0 1.1.9 2 2 2h14c1.1 0 2-.9 2-2V5c0-1.1-.9-2-2-2zM9 17H7v-7h2v7zm4 0h-2V7h2v10zm4 0h-2v-4h2v4z\"/>\n",
              "    </g>\n",
              "</svg>\n",
              "  </button>\n",
              "\n",
              "<style>\n",
              "  .colab-df-quickchart {\n",
              "      --bg-color: #E8F0FE;\n",
              "      --fill-color: #1967D2;\n",
              "      --hover-bg-color: #E2EBFA;\n",
              "      --hover-fill-color: #174EA6;\n",
              "      --disabled-fill-color: #AAA;\n",
              "      --disabled-bg-color: #DDD;\n",
              "  }\n",
              "\n",
              "  [theme=dark] .colab-df-quickchart {\n",
              "      --bg-color: #3B4455;\n",
              "      --fill-color: #D2E3FC;\n",
              "      --hover-bg-color: #434B5C;\n",
              "      --hover-fill-color: #FFFFFF;\n",
              "      --disabled-bg-color: #3B4455;\n",
              "      --disabled-fill-color: #666;\n",
              "  }\n",
              "\n",
              "  .colab-df-quickchart {\n",
              "    background-color: var(--bg-color);\n",
              "    border: none;\n",
              "    border-radius: 50%;\n",
              "    cursor: pointer;\n",
              "    display: none;\n",
              "    fill: var(--fill-color);\n",
              "    height: 32px;\n",
              "    padding: 0;\n",
              "    width: 32px;\n",
              "  }\n",
              "\n",
              "  .colab-df-quickchart:hover {\n",
              "    background-color: var(--hover-bg-color);\n",
              "    box-shadow: 0 1px 2px rgba(60, 64, 67, 0.3), 0 1px 3px 1px rgba(60, 64, 67, 0.15);\n",
              "    fill: var(--button-hover-fill-color);\n",
              "  }\n",
              "\n",
              "  .colab-df-quickchart-complete:disabled,\n",
              "  .colab-df-quickchart-complete:disabled:hover {\n",
              "    background-color: var(--disabled-bg-color);\n",
              "    fill: var(--disabled-fill-color);\n",
              "    box-shadow: none;\n",
              "  }\n",
              "\n",
              "  .colab-df-spinner {\n",
              "    border: 2px solid var(--fill-color);\n",
              "    border-color: transparent;\n",
              "    border-bottom-color: var(--fill-color);\n",
              "    animation:\n",
              "      spin 1s steps(1) infinite;\n",
              "  }\n",
              "\n",
              "  @keyframes spin {\n",
              "    0% {\n",
              "      border-color: transparent;\n",
              "      border-bottom-color: var(--fill-color);\n",
              "      border-left-color: var(--fill-color);\n",
              "    }\n",
              "    20% {\n",
              "      border-color: transparent;\n",
              "      border-left-color: var(--fill-color);\n",
              "      border-top-color: var(--fill-color);\n",
              "    }\n",
              "    30% {\n",
              "      border-color: transparent;\n",
              "      border-left-color: var(--fill-color);\n",
              "      border-top-color: var(--fill-color);\n",
              "      border-right-color: var(--fill-color);\n",
              "    }\n",
              "    40% {\n",
              "      border-color: transparent;\n",
              "      border-right-color: var(--fill-color);\n",
              "      border-top-color: var(--fill-color);\n",
              "    }\n",
              "    60% {\n",
              "      border-color: transparent;\n",
              "      border-right-color: var(--fill-color);\n",
              "    }\n",
              "    80% {\n",
              "      border-color: transparent;\n",
              "      border-right-color: var(--fill-color);\n",
              "      border-bottom-color: var(--fill-color);\n",
              "    }\n",
              "    90% {\n",
              "      border-color: transparent;\n",
              "      border-bottom-color: var(--fill-color);\n",
              "    }\n",
              "  }\n",
              "</style>\n",
              "\n",
              "  <script>\n",
              "    async function quickchart(key) {\n",
              "      const quickchartButtonEl =\n",
              "        document.querySelector('#' + key + ' button');\n",
              "      quickchartButtonEl.disabled = true;  // To prevent multiple clicks.\n",
              "      quickchartButtonEl.classList.add('colab-df-spinner');\n",
              "      try {\n",
              "        const charts = await google.colab.kernel.invokeFunction(\n",
              "            'suggestCharts', [key], {});\n",
              "      } catch (error) {\n",
              "        console.error('Error during call to suggestCharts:', error);\n",
              "      }\n",
              "      quickchartButtonEl.classList.remove('colab-df-spinner');\n",
              "      quickchartButtonEl.classList.add('colab-df-quickchart-complete');\n",
              "    }\n",
              "    (() => {\n",
              "      let quickchartButtonEl =\n",
              "        document.querySelector('#df-ddc9a478-07fe-4af3-8ed0-80fbd8b4f98b button');\n",
              "      quickchartButtonEl.style.display =\n",
              "        google.colab.kernel.accessAllowed ? 'block' : 'none';\n",
              "    })();\n",
              "  </script>\n",
              "</div>\n",
              "    </div>\n",
              "  </div>\n"
            ]
          },
          "metadata": {},
          "execution_count": 6
        }
      ]
    },
    {
      "cell_type": "code",
      "source": [
        "# The detailed discription about each column is given below"
      ],
      "metadata": {
        "id": "gZeRJVv6U6M2"
      },
      "execution_count": 7,
      "outputs": []
    },
    {
      "cell_type": "markdown",
      "source": [
        "![Data_Dictionary.png](data:image/png;base64,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)"
      ],
      "metadata": {
        "id": "ofCyemEeVNGR"
      }
    },
    {
      "cell_type": "code",
      "source": [
        "# number of Rows and Columns available in dataset\n",
        "titanic_data.shape"
      ],
      "metadata": {
        "colab": {
          "base_uri": "https://localhost:8080/"
        },
        "id": "gccqtoMIV4zM",
        "outputId": "13dfc709-a5a7-4fd2-edb3-272b6f98b74e"
      },
      "execution_count": 8,
      "outputs": [
        {
          "output_type": "execute_result",
          "data": {
            "text/plain": [
              "(891, 12)"
            ]
          },
          "metadata": {},
          "execution_count": 8
        }
      ]
    },
    {
      "cell_type": "code",
      "source": [
        "# There are total 12 columns out of which \"Survival\" column is a target column & remaning columns are feature columns"
      ],
      "metadata": {
        "id": "GAMmTR_wXovE"
      },
      "execution_count": 9,
      "outputs": []
    },
    {
      "cell_type": "code",
      "source": [
        "# Getting some more information about data\n",
        "\n",
        "titanic_data.info()"
      ],
      "metadata": {
        "colab": {
          "base_uri": "https://localhost:8080/"
        },
        "id": "G2u5SRDNDSUj",
        "outputId": "b9523347-91d5-4b5e-9b4e-6f7626df917c"
      },
      "execution_count": 10,
      "outputs": [
        {
          "output_type": "stream",
          "name": "stdout",
          "text": [
            "<class 'pandas.core.frame.DataFrame'>\n",
            "RangeIndex: 891 entries, 0 to 890\n",
            "Data columns (total 12 columns):\n",
            " #   Column       Non-Null Count  Dtype  \n",
            "---  ------       --------------  -----  \n",
            " 0   PassengerId  891 non-null    int64  \n",
            " 1   Survived     891 non-null    int64  \n",
            " 2   Pclass       891 non-null    int64  \n",
            " 3   Name         891 non-null    object \n",
            " 4   Sex          891 non-null    object \n",
            " 5   Age          714 non-null    float64\n",
            " 6   SibSp        891 non-null    int64  \n",
            " 7   Parch        891 non-null    int64  \n",
            " 8   Ticket       891 non-null    object \n",
            " 9   Fare         891 non-null    float64\n",
            " 10  Cabin        204 non-null    object \n",
            " 11  Embarked     889 non-null    object \n",
            "dtypes: float64(2), int64(5), object(5)\n",
            "memory usage: 83.7+ KB\n"
          ]
        }
      ]
    },
    {
      "cell_type": "code",
      "source": [
        "# Check the number of missing values in each column\n",
        "titanic_data.isnull().sum()"
      ],
      "metadata": {
        "colab": {
          "base_uri": "https://localhost:8080/"
        },
        "id": "K3WPgcV0DcRT",
        "outputId": "bbe1e8a0-f623-4c02-f1f1-8589114396df"
      },
      "execution_count": 11,
      "outputs": [
        {
          "output_type": "execute_result",
          "data": {
            "text/plain": [
              "PassengerId      0\n",
              "Survived         0\n",
              "Pclass           0\n",
              "Name             0\n",
              "Sex              0\n",
              "Age            177\n",
              "SibSp            0\n",
              "Parch            0\n",
              "Ticket           0\n",
              "Fare             0\n",
              "Cabin          687\n",
              "Embarked         2\n",
              "dtype: int64"
            ]
          },
          "metadata": {},
          "execution_count": 11
        }
      ]
    },
    {
      "cell_type": "markdown",
      "source": [
        "# **3. Data Cleaning Steps**"
      ],
      "metadata": {
        "id": "sWBNwfKcFZ5M"
      }
    },
    {
      "cell_type": "code",
      "source": [
        "# Handling the missing values\n",
        "# Drop the cabin column from the dataframe\n",
        "\n",
        "titanic_data = titanic_data.drop(columns=\"Cabin\",axis=1)"
      ],
      "metadata": {
        "id": "8OLlE1pkFnsN"
      },
      "execution_count": 12,
      "outputs": []
    },
    {
      "cell_type": "code",
      "source": [
        "# replaceing the missing values in age column by the mean value\n",
        "\n",
        "titanic_data[\"Age\"].fillna(titanic_data[\"Age\"].mean(),inplace=True)"
      ],
      "metadata": {
        "id": "uamRcnXgGPx6"
      },
      "execution_count": 13,
      "outputs": []
    },
    {
      "cell_type": "code",
      "source": [
        "# finding the mode value of \"Embarked\" column\n",
        "print(titanic_data[\"Embarked\"].mode()[0])"
      ],
      "metadata": {
        "colab": {
          "base_uri": "https://localhost:8080/"
        },
        "id": "DYVBArP1G2ZX",
        "outputId": "897464b5-33fa-4705-8b11-557e7ecb7655"
      },
      "execution_count": 14,
      "outputs": [
        {
          "output_type": "stream",
          "name": "stdout",
          "text": [
            "S\n"
          ]
        }
      ]
    },
    {
      "cell_type": "code",
      "source": [
        "# Replacing the missing values in \"Embarked\" column with the mode value\n",
        "titanic_data[\"Embarked\"].fillna(titanic_data[\"Embarked\"].mode()[0],inplace=True)"
      ],
      "metadata": {
        "id": "0xIWDBzyHXCs"
      },
      "execution_count": 15,
      "outputs": []
    },
    {
      "cell_type": "code",
      "source": [
        "# Againg checking the missing values in each column\n",
        "\n",
        "titanic_data.isnull().sum()"
      ],
      "metadata": {
        "colab": {
          "base_uri": "https://localhost:8080/"
        },
        "id": "DR3vnO0dIAkk",
        "outputId": "80f0d3cc-5b2a-490a-ca87-21b8466790f2"
      },
      "execution_count": 16,
      "outputs": [
        {
          "output_type": "execute_result",
          "data": {
            "text/plain": [
              "PassengerId    0\n",
              "Survived       0\n",
              "Pclass         0\n",
              "Name           0\n",
              "Sex            0\n",
              "Age            0\n",
              "SibSp          0\n",
              "Parch          0\n",
              "Ticket         0\n",
              "Fare           0\n",
              "Embarked       0\n",
              "dtype: int64"
            ]
          },
          "metadata": {},
          "execution_count": 16
        }
      ]
    },
    {
      "cell_type": "markdown",
      "source": [
        "# **4. Exploratory Data Analysis**"
      ],
      "metadata": {
        "id": "MfGdgXDWIfSj"
      }
    },
    {
      "cell_type": "code",
      "source": [
        "# Getting some statistical measures about the data\n",
        "titanic_data.describe()"
      ],
      "metadata": {
        "colab": {
          "base_uri": "https://localhost:8080/",
          "height": 300
        },
        "id": "XWdaGj6FI1b9",
        "outputId": "f27b8fbd-5c83-4d0c-e00a-49d26edb8aab"
      },
      "execution_count": 17,
      "outputs": [
        {
          "output_type": "execute_result",
          "data": {
            "text/plain": [
              "       PassengerId    Survived      Pclass         Age       SibSp  \\\n",
              "count   891.000000  891.000000  891.000000  891.000000  891.000000   \n",
              "mean    446.000000    0.383838    2.308642   29.699118    0.523008   \n",
              "std     257.353842    0.486592    0.836071   13.002015    1.102743   \n",
              "min       1.000000    0.000000    1.000000    0.420000    0.000000   \n",
              "25%     223.500000    0.000000    2.000000   22.000000    0.000000   \n",
              "50%     446.000000    0.000000    3.000000   29.699118    0.000000   \n",
              "75%     668.500000    1.000000    3.000000   35.000000    1.000000   \n",
              "max     891.000000    1.000000    3.000000   80.000000    8.000000   \n",
              "\n",
              "            Parch        Fare  \n",
              "count  891.000000  891.000000  \n",
              "mean     0.381594   32.204208  \n",
              "std      0.806057   49.693429  \n",
              "min      0.000000    0.000000  \n",
              "25%      0.000000    7.910400  \n",
              "50%      0.000000   14.454200  \n",
              "75%      0.000000   31.000000  \n",
              "max      6.000000  512.329200  "
            ],
            "text/html": [
              "\n",
              "  <div id=\"df-f4259054-7211-4c37-90e7-7058c36d12b9\" class=\"colab-df-container\">\n",
              "    <div>\n",
              "<style scoped>\n",
              "    .dataframe tbody tr th:only-of-type {\n",
              "        vertical-align: middle;\n",
              "    }\n",
              "\n",
              "    .dataframe tbody tr th {\n",
              "        vertical-align: top;\n",
              "    }\n",
              "\n",
              "    .dataframe thead th {\n",
              "        text-align: right;\n",
              "    }\n",
              "</style>\n",
              "<table border=\"1\" class=\"dataframe\">\n",
              "  <thead>\n",
              "    <tr style=\"text-align: right;\">\n",
              "      <th></th>\n",
              "      <th>PassengerId</th>\n",
              "      <th>Survived</th>\n",
              "      <th>Pclass</th>\n",
              "      <th>Age</th>\n",
              "      <th>SibSp</th>\n",
              "      <th>Parch</th>\n",
              "      <th>Fare</th>\n",
              "    </tr>\n",
              "  </thead>\n",
              "  <tbody>\n",
              "    <tr>\n",
              "      <th>count</th>\n",
              "      <td>891.000000</td>\n",
              "      <td>891.000000</td>\n",
              "      <td>891.000000</td>\n",
              "      <td>891.000000</td>\n",
              "      <td>891.000000</td>\n",
              "      <td>891.000000</td>\n",
              "      <td>891.000000</td>\n",
              "    </tr>\n",
              "    <tr>\n",
              "      <th>mean</th>\n",
              "      <td>446.000000</td>\n",
              "      <td>0.383838</td>\n",
              "      <td>2.308642</td>\n",
              "      <td>29.699118</td>\n",
              "      <td>0.523008</td>\n",
              "      <td>0.381594</td>\n",
              "      <td>32.204208</td>\n",
              "    </tr>\n",
              "    <tr>\n",
              "      <th>std</th>\n",
              "      <td>257.353842</td>\n",
              "      <td>0.486592</td>\n",
              "      <td>0.836071</td>\n",
              "      <td>13.002015</td>\n",
              "      <td>1.102743</td>\n",
              "      <td>0.806057</td>\n",
              "      <td>49.693429</td>\n",
              "    </tr>\n",
              "    <tr>\n",
              "      <th>min</th>\n",
              "      <td>1.000000</td>\n",
              "      <td>0.000000</td>\n",
              "      <td>1.000000</td>\n",
              "      <td>0.420000</td>\n",
              "      <td>0.000000</td>\n",
              "      <td>0.000000</td>\n",
              "      <td>0.000000</td>\n",
              "    </tr>\n",
              "    <tr>\n",
              "      <th>25%</th>\n",
              "      <td>223.500000</td>\n",
              "      <td>0.000000</td>\n",
              "      <td>2.000000</td>\n",
              "      <td>22.000000</td>\n",
              "      <td>0.000000</td>\n",
              "      <td>0.000000</td>\n",
              "      <td>7.910400</td>\n",
              "    </tr>\n",
              "    <tr>\n",
              "      <th>50%</th>\n",
              "      <td>446.000000</td>\n",
              "      <td>0.000000</td>\n",
              "      <td>3.000000</td>\n",
              "      <td>29.699118</td>\n",
              "      <td>0.000000</td>\n",
              "      <td>0.000000</td>\n",
              "      <td>14.454200</td>\n",
              "    </tr>\n",
              "    <tr>\n",
              "      <th>75%</th>\n",
              "      <td>668.500000</td>\n",
              "      <td>1.000000</td>\n",
              "      <td>3.000000</td>\n",
              "      <td>35.000000</td>\n",
              "      <td>1.000000</td>\n",
              "      <td>0.000000</td>\n",
              "      <td>31.000000</td>\n",
              "    </tr>\n",
              "    <tr>\n",
              "      <th>max</th>\n",
              "      <td>891.000000</td>\n",
              "      <td>1.000000</td>\n",
              "      <td>3.000000</td>\n",
              "      <td>80.000000</td>\n",
              "      <td>8.000000</td>\n",
              "      <td>6.000000</td>\n",
              "      <td>512.329200</td>\n",
              "    </tr>\n",
              "  </tbody>\n",
              "</table>\n",
              "</div>\n",
              "    <div class=\"colab-df-buttons\">\n",
              "\n",
              "  <div class=\"colab-df-container\">\n",
              "    <button class=\"colab-df-convert\" onclick=\"convertToInteractive('df-f4259054-7211-4c37-90e7-7058c36d12b9')\"\n",
              "            title=\"Convert this dataframe to an interactive table.\"\n",
              "            style=\"display:none;\">\n",
              "\n",
              "  <svg xmlns=\"http://www.w3.org/2000/svg\" height=\"24px\" viewBox=\"0 -960 960 960\">\n",
              "    <path d=\"M120-120v-720h720v720H120Zm60-500h600v-160H180v160Zm220 220h160v-160H400v160Zm0 220h160v-160H400v160ZM180-400h160v-160H180v160Zm440 0h160v-160H620v160ZM180-180h160v-160H180v160Zm440 0h160v-160H620v160Z\"/>\n",
              "  </svg>\n",
              "    </button>\n",
              "\n",
              "  <style>\n",
              "    .colab-df-container {\n",
              "      display:flex;\n",
              "      gap: 12px;\n",
              "    }\n",
              "\n",
              "    .colab-df-convert {\n",
              "      background-color: #E8F0FE;\n",
              "      border: none;\n",
              "      border-radius: 50%;\n",
              "      cursor: pointer;\n",
              "      display: none;\n",
              "      fill: #1967D2;\n",
              "      height: 32px;\n",
              "      padding: 0 0 0 0;\n",
              "      width: 32px;\n",
              "    }\n",
              "\n",
              "    .colab-df-convert:hover {\n",
              "      background-color: #E2EBFA;\n",
              "      box-shadow: 0px 1px 2px rgba(60, 64, 67, 0.3), 0px 1px 3px 1px rgba(60, 64, 67, 0.15);\n",
              "      fill: #174EA6;\n",
              "    }\n",
              "\n",
              "    .colab-df-buttons div {\n",
              "      margin-bottom: 4px;\n",
              "    }\n",
              "\n",
              "    [theme=dark] .colab-df-convert {\n",
              "      background-color: #3B4455;\n",
              "      fill: #D2E3FC;\n",
              "    }\n",
              "\n",
              "    [theme=dark] .colab-df-convert:hover {\n",
              "      background-color: #434B5C;\n",
              "      box-shadow: 0px 1px 3px 1px rgba(0, 0, 0, 0.15);\n",
              "      filter: drop-shadow(0px 1px 2px rgba(0, 0, 0, 0.3));\n",
              "      fill: #FFFFFF;\n",
              "    }\n",
              "  </style>\n",
              "\n",
              "    <script>\n",
              "      const buttonEl =\n",
              "        document.querySelector('#df-f4259054-7211-4c37-90e7-7058c36d12b9 button.colab-df-convert');\n",
              "      buttonEl.style.display =\n",
              "        google.colab.kernel.accessAllowed ? 'block' : 'none';\n",
              "\n",
              "      async function convertToInteractive(key) {\n",
              "        const element = document.querySelector('#df-f4259054-7211-4c37-90e7-7058c36d12b9');\n",
              "        const dataTable =\n",
              "          await google.colab.kernel.invokeFunction('convertToInteractive',\n",
              "                                                    [key], {});\n",
              "        if (!dataTable) return;\n",
              "\n",
              "        const docLinkHtml = 'Like what you see? Visit the ' +\n",
              "          '<a target=\"_blank\" href=https://colab.research.google.com/notebooks/data_table.ipynb>data table notebook</a>'\n",
              "          + ' to learn more about interactive tables.';\n",
              "        element.innerHTML = '';\n",
              "        dataTable['output_type'] = 'display_data';\n",
              "        await google.colab.output.renderOutput(dataTable, element);\n",
              "        const docLink = document.createElement('div');\n",
              "        docLink.innerHTML = docLinkHtml;\n",
              "        element.appendChild(docLink);\n",
              "      }\n",
              "    </script>\n",
              "  </div>\n",
              "\n",
              "\n",
              "<div id=\"df-ab93cb24-7071-4129-a84b-79dd9a21e6d8\">\n",
              "  <button class=\"colab-df-quickchart\" onclick=\"quickchart('df-ab93cb24-7071-4129-a84b-79dd9a21e6d8')\"\n",
              "            title=\"Suggest charts.\"\n",
              "            style=\"display:none;\">\n",
              "\n",
              "<svg xmlns=\"http://www.w3.org/2000/svg\" height=\"24px\"viewBox=\"0 0 24 24\"\n",
              "     width=\"24px\">\n",
              "    <g>\n",
              "        <path d=\"M19 3H5c-1.1 0-2 .9-2 2v14c0 1.1.9 2 2 2h14c1.1 0 2-.9 2-2V5c0-1.1-.9-2-2-2zM9 17H7v-7h2v7zm4 0h-2V7h2v10zm4 0h-2v-4h2v4z\"/>\n",
              "    </g>\n",
              "</svg>\n",
              "  </button>\n",
              "\n",
              "<style>\n",
              "  .colab-df-quickchart {\n",
              "      --bg-color: #E8F0FE;\n",
              "      --fill-color: #1967D2;\n",
              "      --hover-bg-color: #E2EBFA;\n",
              "      --hover-fill-color: #174EA6;\n",
              "      --disabled-fill-color: #AAA;\n",
              "      --disabled-bg-color: #DDD;\n",
              "  }\n",
              "\n",
              "  [theme=dark] .colab-df-quickchart {\n",
              "      --bg-color: #3B4455;\n",
              "      --fill-color: #D2E3FC;\n",
              "      --hover-bg-color: #434B5C;\n",
              "      --hover-fill-color: #FFFFFF;\n",
              "      --disabled-bg-color: #3B4455;\n",
              "      --disabled-fill-color: #666;\n",
              "  }\n",
              "\n",
              "  .colab-df-quickchart {\n",
              "    background-color: var(--bg-color);\n",
              "    border: none;\n",
              "    border-radius: 50%;\n",
              "    cursor: pointer;\n",
              "    display: none;\n",
              "    fill: var(--fill-color);\n",
              "    height: 32px;\n",
              "    padding: 0;\n",
              "    width: 32px;\n",
              "  }\n",
              "\n",
              "  .colab-df-quickchart:hover {\n",
              "    background-color: var(--hover-bg-color);\n",
              "    box-shadow: 0 1px 2px rgba(60, 64, 67, 0.3), 0 1px 3px 1px rgba(60, 64, 67, 0.15);\n",
              "    fill: var(--button-hover-fill-color);\n",
              "  }\n",
              "\n",
              "  .colab-df-quickchart-complete:disabled,\n",
              "  .colab-df-quickchart-complete:disabled:hover {\n",
              "    background-color: var(--disabled-bg-color);\n",
              "    fill: var(--disabled-fill-color);\n",
              "    box-shadow: none;\n",
              "  }\n",
              "\n",
              "  .colab-df-spinner {\n",
              "    border: 2px solid var(--fill-color);\n",
              "    border-color: transparent;\n",
              "    border-bottom-color: var(--fill-color);\n",
              "    animation:\n",
              "      spin 1s steps(1) infinite;\n",
              "  }\n",
              "\n",
              "  @keyframes spin {\n",
              "    0% {\n",
              "      border-color: transparent;\n",
              "      border-bottom-color: var(--fill-color);\n",
              "      border-left-color: var(--fill-color);\n",
              "    }\n",
              "    20% {\n",
              "      border-color: transparent;\n",
              "      border-left-color: var(--fill-color);\n",
              "      border-top-color: var(--fill-color);\n",
              "    }\n",
              "    30% {\n",
              "      border-color: transparent;\n",
              "      border-left-color: var(--fill-color);\n",
              "      border-top-color: var(--fill-color);\n",
              "      border-right-color: var(--fill-color);\n",
              "    }\n",
              "    40% {\n",
              "      border-color: transparent;\n",
              "      border-right-color: var(--fill-color);\n",
              "      border-top-color: var(--fill-color);\n",
              "    }\n",
              "    60% {\n",
              "      border-color: transparent;\n",
              "      border-right-color: var(--fill-color);\n",
              "    }\n",
              "    80% {\n",
              "      border-color: transparent;\n",
              "      border-right-color: var(--fill-color);\n",
              "      border-bottom-color: var(--fill-color);\n",
              "    }\n",
              "    90% {\n",
              "      border-color: transparent;\n",
              "      border-bottom-color: var(--fill-color);\n",
              "    }\n",
              "  }\n",
              "</style>\n",
              "\n",
              "  <script>\n",
              "    async function quickchart(key) {\n",
              "      const quickchartButtonEl =\n",
              "        document.querySelector('#' + key + ' button');\n",
              "      quickchartButtonEl.disabled = true;  // To prevent multiple clicks.\n",
              "      quickchartButtonEl.classList.add('colab-df-spinner');\n",
              "      try {\n",
              "        const charts = await google.colab.kernel.invokeFunction(\n",
              "            'suggestCharts', [key], {});\n",
              "      } catch (error) {\n",
              "        console.error('Error during call to suggestCharts:', error);\n",
              "      }\n",
              "      quickchartButtonEl.classList.remove('colab-df-spinner');\n",
              "      quickchartButtonEl.classList.add('colab-df-quickchart-complete');\n",
              "    }\n",
              "    (() => {\n",
              "      let quickchartButtonEl =\n",
              "        document.querySelector('#df-ab93cb24-7071-4129-a84b-79dd9a21e6d8 button');\n",
              "      quickchartButtonEl.style.display =\n",
              "        google.colab.kernel.accessAllowed ? 'block' : 'none';\n",
              "    })();\n",
              "  </script>\n",
              "</div>\n",
              "    </div>\n",
              "  </div>\n"
            ]
          },
          "metadata": {},
          "execution_count": 17
        }
      ]
    },
    {
      "cell_type": "code",
      "source": [
        "# Finding the number of people survive and not survive\n",
        "titanic_data[\"Survived\"].value_counts()\n"
      ],
      "metadata": {
        "colab": {
          "base_uri": "https://localhost:8080/"
        },
        "id": "SutbD7FmI9Bn",
        "outputId": "da1146d7-a76f-44d6-f2a4-c7f1f9a9fa7b"
      },
      "execution_count": 18,
      "outputs": [
        {
          "output_type": "execute_result",
          "data": {
            "text/plain": [
              "0    549\n",
              "1    342\n",
              "Name: Survived, dtype: int64"
            ]
          },
          "metadata": {},
          "execution_count": 18
        }
      ]
    },
    {
      "cell_type": "code",
      "source": [
        "# Making a count plot for \"Survived\" column\n",
        "sns.countplot(x='Survived',data=titanic_data)"
      ],
      "metadata": {
        "colab": {
          "base_uri": "https://localhost:8080/",
          "height": 466
        },
        "id": "wM8n0surJkcQ",
        "outputId": "15adc6ca-9f97-4e8a-f536-761fb9595d73"
      },
      "execution_count": 19,
      "outputs": [
        {
          "output_type": "execute_result",
          "data": {
            "text/plain": [
              "<Axes: xlabel='Survived', ylabel='count'>"
            ]
          },
          "metadata": {},
          "execution_count": 19
        },
        {
          "output_type": "display_data",
          "data": {
            "text/plain": [
              "<Figure size 640x480 with 1 Axes>"
            ],
            "image/png": "[encoded data removed]"
          },
          "metadata": {}
        }
      ]
    },
    {
      "cell_type": "code",
      "source": [
        "# Finding the number of males & females available on ship\n",
        "titanic_data[\"Sex\"].value_counts()"
      ],
      "metadata": {
        "colab": {
          "base_uri": "https://localhost:8080/"
        },
        "id": "pGt7CQJTMWcs",
        "outputId": "ed799d8c-8cab-47fc-c112-ca05874e67ce"
      },
      "execution_count": 20,
      "outputs": [
        {
          "output_type": "execute_result",
          "data": {
            "text/plain": [
              "male      577\n",
              "female    314\n",
              "Name: Sex, dtype: int64"
            ]
          },
          "metadata": {},
          "execution_count": 20
        }
      ]
    },
    {
      "cell_type": "code",
      "source": [
        "# Number of survivors Gender Wise\n",
        "sns.countplot(x='Sex',hue=\"Survived\",data=titanic_data)"
      ],
      "metadata": {
        "colab": {
          "base_uri": "https://localhost:8080/",
          "height": 466
        },
        "id": "rs-OObVKKUaN",
        "outputId": "6285ec2c-7295-4f44-c941-85f0fdb5856a"
      },
      "execution_count": 21,
      "outputs": [
        {
          "output_type": "execute_result",
          "data": {
            "text/plain": [
              "<Axes: xlabel='Sex', ylabel='count'>"
            ]
          },
          "metadata": {},
          "execution_count": 21
        },
        {
          "output_type": "display_data",
          "data": {
            "text/plain": [
              "<Figure size 640x480 with 1 Axes>"
            ],
            "image/png": "[encoded data removed]"
          },
          "metadata": {}
        }
      ]
    },
    {
      "cell_type": "markdown",
      "source": [
        "**Observation_1** -- *The survior probability of female passangers is higher than male passangers.*"
      ],
      "metadata": {
        "id": "4nhL1PR8Orfx"
      }
    },
    {
      "cell_type": "code",
      "source": [
        "# Finding the number of 1st class, 2nd class & 3rd class passangers available on ship\n",
        "titanic_data[\"Pclass\"].value_counts()"
      ],
      "metadata": {
        "colab": {
          "base_uri": "https://localhost:8080/"
        },
        "id": "sjgMQg7RMTmQ",
        "outputId": "7160db9b-19d1-40f8-ad29-ebde206265f0"
      },
      "execution_count": 24,
      "outputs": [
        {
          "output_type": "execute_result",
          "data": {
            "text/plain": [
              "3    491\n",
              "1    216\n",
              "2    184\n",
              "Name: Pclass, dtype: int64"
            ]
          },
          "metadata": {},
          "execution_count": 24
        }
      ]
    },
    {
      "cell_type": "code",
      "source": [
        "# Number of survivors Pclass Wise\n",
        "sns.countplot(x='Pclass',hue=\"Survived\",data=titanic_data)"
      ],
      "metadata": {
        "colab": {
          "base_uri": "https://localhost:8080/",
          "height": 466
        },
        "id": "BZFXXiqwN4dP",
        "outputId": "c4b04d7a-b363-479d-faaf-38d89f9ba180"
      },
      "execution_count": 23,
      "outputs": [
        {
          "output_type": "execute_result",
          "data": {
            "text/plain": [
              "<Axes: xlabel='Pclass', ylabel='count'>"
            ]
          },
          "metadata": {},
          "execution_count": 23
        },
        {
          "output_type": "display_data",
          "data": {
            "text/plain": [
              "<Figure size 640x480 with 1 Axes>"
            ],
            "image/png": "[encoded data removed]"
          },
          "metadata": {}
        }
      ]
    },
    {
      "cell_type": "markdown",
      "source": [
        "**Observation_2** -- *The survior probability of 1st class passangers is higher than 2nd and 3rd class passangers.*"
      ],
      "metadata": {
        "id": "HInBn-eZQqVT"
      }
    },
    {
      "cell_type": "code",
      "source": [
        "# Number Siblings/Spouses aboard on the ship\n",
        "titanic_data[\"SibSp\"].value_counts()"
      ],
      "metadata": {
        "colab": {
          "base_uri": "https://localhost:8080/"
        },
        "id": "yG-2KZAvOHb-",
        "outputId": "6814f3b0-dd6f-44fa-c6fb-1da9f1ee5ea5"
      },
      "execution_count": 25,
      "outputs": [
        {
          "output_type": "execute_result",
          "data": {
            "text/plain": [
              "0    608\n",
              "1    209\n",
              "2     28\n",
              "4     18\n",
              "3     16\n",
              "8      7\n",
              "5      5\n",
              "Name: SibSp, dtype: int64"
            ]
          },
          "metadata": {},
          "execution_count": 25
        }
      ]
    },
    {
      "cell_type": "code",
      "source": [
        "# Number of survivors Sibling/Spouse Count Wise\n",
        "sns.countplot(x='SibSp',hue=\"Survived\",data=titanic_data)"
      ],
      "metadata": {
        "colab": {
          "base_uri": "https://localhost:8080/",
          "height": 466
        },
        "id": "oT4CKmb6TwFg",
        "outputId": "69cfcf4b-811c-4aca-d43a-d1a0e3345dd2"
      },
      "execution_count": 26,
      "outputs": [
        {
          "output_type": "execute_result",
          "data": {
            "text/plain": [
              "<Axes: xlabel='SibSp', ylabel='count'>"
            ]
          },
          "metadata": {},
          "execution_count": 26
        },
        {
          "output_type": "display_data",
          "data": {
            "text/plain": [
              "<Figure size 640x480 with 1 Axes>"
            ],
            "image/png": "[encoded data removed]"
          },
          "metadata": {}
        }
      ]
    },
    {
      "cell_type": "markdown",
      "source": [
        "**Observation_3** -- *The survior probability is higher for the passangers who had a zero or one sibling/spouse on board.*"
      ],
      "metadata": {
        "id": "jkSn9YC9UroH"
      }
    },
    {
      "cell_type": "code",
      "source": [
        "# Number Parents/Childerns aboard on the ship\n",
        "titanic_data[\"Parch\"].value_counts()"
      ],
      "metadata": {
        "colab": {
          "base_uri": "https://localhost:8080/"
        },
        "id": "uq8b5s5IUZ49",
        "outputId": "53564367-2d39-4798-9195-9bdb5e830a54"
      },
      "execution_count": 28,
      "outputs": [
        {
          "output_type": "execute_result",
          "data": {
            "text/plain": [
              "0    678\n",
              "1    118\n",
              "2     80\n",
              "5      5\n",
              "3      5\n",
              "4      4\n",
              "6      1\n",
              "Name: Parch, dtype: int64"
            ]
          },
          "metadata": {},
          "execution_count": 28
        }
      ]
    },
    {
      "cell_type": "code",
      "source": [
        "# Number of survivors Parent/Childern Count Wise\n",
        "sns.countplot(x='Parch',hue=\"Survived\",data=titanic_data)"
      ],
      "metadata": {
        "colab": {
          "base_uri": "https://localhost:8080/",
          "height": 466
        },
        "id": "GHbOcFnQXAje",
        "outputId": "95595df8-ea4e-4ad7-9ae7-917e6edd4ea7"
      },
      "execution_count": 29,
      "outputs": [
        {
          "output_type": "execute_result",
          "data": {
            "text/plain": [
              "<Axes: xlabel='Parch', ylabel='count'>"
            ]
          },
          "metadata": {},
          "execution_count": 29
        },
        {
          "output_type": "display_data",
          "data": {
            "text/plain": [
              "<Figure size 640x480 with 1 Axes>"
            ],
            "image/png": "[encoded data removed]"
          },
          "metadata": {}
        }
      ]
    },
    {
      "cell_type": "markdown",
      "source": [
        "**Observation_4** -- *The survior probability is higher for the passangers who had a zero or one Parent/Childern on board.*"
      ],
      "metadata": {
        "id": "mmY4uNVCXrr8"
      }
    },
    {
      "cell_type": "code",
      "source": [
        "# Port of embarkation wise passanger count\n",
        "titanic_data[\"Embarked\"].value_counts()\n",
        "\n",
        "#S = Southhampton\n",
        "#C = Cherbourg\n",
        "#Q = Queenstown"
      ],
      "metadata": {
        "colab": {
          "base_uri": "https://localhost:8080/"
        },
        "id": "FHwF8gg9XTkJ",
        "outputId": "ef2d65a5-36ed-4d6e-e59a-5c96df61a2ec"
      },
      "execution_count": 31,
      "outputs": [
        {
          "output_type": "execute_result",
          "data": {
            "text/plain": [
              "S    646\n",
              "C    168\n",
              "Q     77\n",
              "Name: Embarked, dtype: int64"
            ]
          },
          "metadata": {},
          "execution_count": 31
        }
      ]
    },
    {
      "cell_type": "code",
      "source": [
        "# Number of survivors port of embarkation Wise\n",
        "sns.countplot(x='Embarked',hue=\"Survived\",data=titanic_data)"
      ],
      "metadata": {
        "colab": {
          "base_uri": "https://localhost:8080/",
          "height": 466
        },
        "id": "_sB4DCwzYP6A",
        "outputId": "32ddfea2-cc9a-4f73-d9b4-b00c5ea0aeff"
      },
      "execution_count": 32,
      "outputs": [
        {
          "output_type": "execute_result",
          "data": {
            "text/plain": [
              "<Axes: xlabel='Embarked', ylabel='count'>"
            ]
          },
          "metadata": {},
          "execution_count": 32
        },
        {
          "output_type": "display_data",
          "data": {
            "text/plain": [
              "<Figure size 640x480 with 1 Axes>"
            ],
            "image/png": "[encoded data removed]"
          },
          "metadata": {}
        }
      ]
    },
    {
      "cell_type": "markdown",
      "source": [
        "**Observation_5** -- *The survior probability is higher for the passangers who had embarked on the ship from \"Southhampton\" and \"Cherbourg\".*"
      ],
      "metadata": {
        "id": "ieRuZa0xY_zU"
      }
    },
    {
      "cell_type": "markdown",
      "source": [
        "# **5. Data Processing**"
      ],
      "metadata": {
        "id": "vnkfM9ggbj4T"
      }
    },
    {
      "cell_type": "code",
      "source": [
        "# converting categorical data values into numerical data values\n",
        "\n",
        "titanic_data.replace({'Sex':{'male':0,'female':1},'Embarked':{'S':0,'C':1,'Q':2}},inplace=True)"
      ],
      "metadata": {
        "id": "NVe4BIRsbgIg"
      },
      "execution_count": 35,
      "outputs": []
    },
    {
      "cell_type": "code",
      "source": [
        "titanic_data.head()"
      ],
      "metadata": {
        "colab": {
          "base_uri": "https://localhost:8080/",
          "height": 206
        },
        "id": "NFQdN4ocYuSF",
        "outputId": "75a743d8-dc47-438c-84ba-ac887672e534"
      },
      "execution_count": 36,
      "outputs": [
        {
          "output_type": "execute_result",
          "data": {
            "text/plain": [
              "   PassengerId  Survived  Pclass  \\\n",
              "0            1         0       3   \n",
              "1            2         1       1   \n",
              "2            3         1       3   \n",
              "3            4         1       1   \n",
              "4            5         0       3   \n",
              "\n",
              "                                                Name  Sex   Age  SibSp  Parch  \\\n",
              "0                            Braund, Mr. Owen Harris    0  22.0      1      0   \n",
              "1  Cumings, Mrs. John Bradley (Florence Briggs Th...    1  38.0      1      0   \n",
              "2                             Heikkinen, Miss. Laina    1  26.0      0      0   \n",
              "3       Futrelle, Mrs. Jacques Heath (Lily May Peel)    1  35.0      1      0   \n",
              "4                           Allen, Mr. William Henry    0  35.0      0      0   \n",
              "\n",
              "             Ticket     Fare  Embarked  \n",
              "0         A/5 21171   7.2500         0  \n",
              "1          PC 17599  71.2833         1  \n",
              "2  STON/O2. 3101282   7.9250         0  \n",
              "3            113803  53.1000         0  \n",
              "4            373450   8.0500         0  "
            ],
            "text/html": [
              "\n",
              "  <div id=\"df-abe6e12d-064b-4724-b4d4-40d2de625901\" class=\"colab-df-container\">\n",
              "    <div>\n",
              "<style scoped>\n",
              "    .dataframe tbody tr th:only-of-type {\n",
              "        vertical-align: middle;\n",
              "    }\n",
              "\n",
              "    .dataframe tbody tr th {\n",
              "        vertical-align: top;\n",
              "    }\n",
              "\n",
              "    .dataframe thead th {\n",
              "        text-align: right;\n",
              "    }\n",
              "</style>\n",
              "<table border=\"1\" class=\"dataframe\">\n",
              "  <thead>\n",
              "    <tr style=\"text-align: right;\">\n",
              "      <th></th>\n",
              "      <th>PassengerId</th>\n",
              "      <th>Survived</th>\n",
              "      <th>Pclass</th>\n",
              "      <th>Name</th>\n",
              "      <th>Sex</th>\n",
              "      <th>Age</th>\n",
              "      <th>SibSp</th>\n",
              "      <th>Parch</th>\n",
              "      <th>Ticket</th>\n",
              "      <th>Fare</th>\n",
              "      <th>Embarked</th>\n",
              "    </tr>\n",
              "  </thead>\n",
              "  <tbody>\n",
              "    <tr>\n",
              "      <th>0</th>\n",
              "      <td>1</td>\n",
              "      <td>0</td>\n",
              "      <td>3</td>\n",
              "      <td>Braund, Mr. Owen Harris</td>\n",
              "      <td>0</td>\n",
              "      <td>22.0</td>\n",
              "      <td>1</td>\n",
              "      <td>0</td>\n",
              "      <td>A/5 21171</td>\n",
              "      <td>7.2500</td>\n",
              "      <td>0</td>\n",
              "    </tr>\n",
              "    <tr>\n",
              "      <th>1</th>\n",
              "      <td>2</td>\n",
              "      <td>1</td>\n",
              "      <td>1</td>\n",
              "      <td>Cumings, Mrs. John Bradley (Florence Briggs Th...</td>\n",
              "      <td>1</td>\n",
              "      <td>38.0</td>\n",
              "      <td>1</td>\n",
              "      <td>0</td>\n",
              "      <td>PC 17599</td>\n",
              "      <td>71.2833</td>\n",
              "      <td>1</td>\n",
              "    </tr>\n",
              "    <tr>\n",
              "      <th>2</th>\n",
              "      <td>3</td>\n",
              "      <td>1</td>\n",
              "      <td>3</td>\n",
              "      <td>Heikkinen, Miss. Laina</td>\n",
              "      <td>1</td>\n",
              "      <td>26.0</td>\n",
              "      <td>0</td>\n",
              "      <td>0</td>\n",
              "      <td>STON/O2. 3101282</td>\n",
              "      <td>7.9250</td>\n",
              "      <td>0</td>\n",
              "    </tr>\n",
              "    <tr>\n",
              "      <th>3</th>\n",
              "      <td>4</td>\n",
              "      <td>1</td>\n",
              "      <td>1</td>\n",
              "      <td>Futrelle, Mrs. Jacques Heath (Lily May Peel)</td>\n",
              "      <td>1</td>\n",
              "      <td>35.0</td>\n",
              "      <td>1</td>\n",
              "      <td>0</td>\n",
              "      <td>113803</td>\n",
              "      <td>53.1000</td>\n",
              "      <td>0</td>\n",
              "    </tr>\n",
              "    <tr>\n",
              "      <th>4</th>\n",
              "      <td>5</td>\n",
              "      <td>0</td>\n",
              "      <td>3</td>\n",
              "      <td>Allen, Mr. William Henry</td>\n",
              "      <td>0</td>\n",
              "      <td>35.0</td>\n",
              "      <td>0</td>\n",
              "      <td>0</td>\n",
              "      <td>373450</td>\n",
              "      <td>8.0500</td>\n",
              "      <td>0</td>\n",
              "    </tr>\n",
              "  </tbody>\n",
              "</table>\n",
              "</div>\n",
              "    <div class=\"colab-df-buttons\">\n",
              "\n",
              "  <div class=\"colab-df-container\">\n",
              "    <button class=\"colab-df-convert\" onclick=\"convertToInteractive('df-abe6e12d-064b-4724-b4d4-40d2de625901')\"\n",
              "            title=\"Convert this dataframe to an interactive table.\"\n",
              "            style=\"display:none;\">\n",
              "\n",
              "  <svg xmlns=\"http://www.w3.org/2000/svg\" height=\"24px\" viewBox=\"0 -960 960 960\">\n",
              "    <path d=\"M120-120v-720h720v720H120Zm60-500h600v-160H180v160Zm220 220h160v-160H400v160Zm0 220h160v-160H400v160ZM180-400h160v-160H180v160Zm440 0h160v-160H620v160ZM180-180h160v-160H180v160Zm440 0h160v-160H620v160Z\"/>\n",
              "  </svg>\n",
              "    </button>\n",
              "\n",
              "  <style>\n",
              "    .colab-df-container {\n",
              "      display:flex;\n",
              "      gap: 12px;\n",
              "    }\n",
              "\n",
              "    .colab-df-convert {\n",
              "      background-color: #E8F0FE;\n",
              "      border: none;\n",
              "      border-radius: 50%;\n",
              "      cursor: pointer;\n",
              "      display: none;\n",
              "      fill: #1967D2;\n",
              "      height: 32px;\n",
              "      padding: 0 0 0 0;\n",
              "      width: 32px;\n",
              "    }\n",
              "\n",
              "    .colab-df-convert:hover {\n",
              "      background-color: #E2EBFA;\n",
              "      box-shadow: 0px 1px 2px rgba(60, 64, 67, 0.3), 0px 1px 3px 1px rgba(60, 64, 67, 0.15);\n",
              "      fill: #174EA6;\n",
              "    }\n",
              "\n",
              "    .colab-df-buttons div {\n",
              "      margin-bottom: 4px;\n",
              "    }\n",
              "\n",
              "    [theme=dark] .colab-df-convert {\n",
              "      background-color: #3B4455;\n",
              "      fill: #D2E3FC;\n",
              "    }\n",
              "\n",
              "    [theme=dark] .colab-df-convert:hover {\n",
              "      background-color: #434B5C;\n",
              "      box-shadow: 0px 1px 3px 1px rgba(0, 0, 0, 0.15);\n",
              "      filter: drop-shadow(0px 1px 2px rgba(0, 0, 0, 0.3));\n",
              "      fill: #FFFFFF;\n",
              "    }\n",
              "  </style>\n",
              "\n",
              "    <script>\n",
              "      const buttonEl =\n",
              "        document.querySelector('#df-abe6e12d-064b-4724-b4d4-40d2de625901 button.colab-df-convert');\n",
              "      buttonEl.style.display =\n",
              "        google.colab.kernel.accessAllowed ? 'block' : 'none';\n",
              "\n",
              "      async function convertToInteractive(key) {\n",
              "        const element = document.querySelector('#df-abe6e12d-064b-4724-b4d4-40d2de625901');\n",
              "        const dataTable =\n",
              "          await google.colab.kernel.invokeFunction('convertToInteractive',\n",
              "                                                    [key], {});\n",
              "        if (!dataTable) return;\n",
              "\n",
              "        const docLinkHtml = 'Like what you see? Visit the ' +\n",
              "          '<a target=\"_blank\" href=https://colab.research.google.com/notebooks/data_table.ipynb>data table notebook</a>'\n",
              "          + ' to learn more about interactive tables.';\n",
              "        element.innerHTML = '';\n",
              "        dataTable['output_type'] = 'display_data';\n",
              "        await google.colab.output.renderOutput(dataTable, element);\n",
              "        const docLink = document.createElement('div');\n",
              "        docLink.innerHTML = docLinkHtml;\n",
              "        element.appendChild(docLink);\n",
              "      }\n",
              "    </script>\n",
              "  </div>\n",
              "\n",
              "\n",
              "<div id=\"df-23e8fc08-7553-4f98-9ba6-3360107e2829\">\n",
              "  <button class=\"colab-df-quickchart\" onclick=\"quickchart('df-23e8fc08-7553-4f98-9ba6-3360107e2829')\"\n",
              "            title=\"Suggest charts.\"\n",
              "            style=\"display:none;\">\n",
              "\n",
              "<svg xmlns=\"http://www.w3.org/2000/svg\" height=\"24px\"viewBox=\"0 0 24 24\"\n",
              "     width=\"24px\">\n",
              "    <g>\n",
              "        <path d=\"M19 3H5c-1.1 0-2 .9-2 2v14c0 1.1.9 2 2 2h14c1.1 0 2-.9 2-2V5c0-1.1-.9-2-2-2zM9 17H7v-7h2v7zm4 0h-2V7h2v10zm4 0h-2v-4h2v4z\"/>\n",
              "    </g>\n",
              "</svg>\n",
              "  </button>\n",
              "\n",
              "<style>\n",
              "  .colab-df-quickchart {\n",
              "      --bg-color: #E8F0FE;\n",
              "      --fill-color: #1967D2;\n",
              "      --hover-bg-color: #E2EBFA;\n",
              "      --hover-fill-color: #174EA6;\n",
              "      --disabled-fill-color: #AAA;\n",
              "      --disabled-bg-color: #DDD;\n",
              "  }\n",
              "\n",
              "  [theme=dark] .colab-df-quickchart {\n",
              "      --bg-color: #3B4455;\n",
              "      --fill-color: #D2E3FC;\n",
              "      --hover-bg-color: #434B5C;\n",
              "      --hover-fill-color: #FFFFFF;\n",
              "      --disabled-bg-color: #3B4455;\n",
              "      --disabled-fill-color: #666;\n",
              "  }\n",
              "\n",
              "  .colab-df-quickchart {\n",
              "    background-color: var(--bg-color);\n",
              "    border: none;\n",
              "    border-radius: 50%;\n",
              "    cursor: pointer;\n",
              "    display: none;\n",
              "    fill: var(--fill-color);\n",
              "    height: 32px;\n",
              "    padding: 0;\n",
              "    width: 32px;\n",
              "  }\n",
              "\n",
              "  .colab-df-quickchart:hover {\n",
              "    background-color: var(--hover-bg-color);\n",
              "    box-shadow: 0 1px 2px rgba(60, 64, 67, 0.3), 0 1px 3px 1px rgba(60, 64, 67, 0.15);\n",
              "    fill: var(--button-hover-fill-color);\n",
              "  }\n",
              "\n",
              "  .colab-df-quickchart-complete:disabled,\n",
              "  .colab-df-quickchart-complete:disabled:hover {\n",
              "    background-color: var(--disabled-bg-color);\n",
              "    fill: var(--disabled-fill-color);\n",
              "    box-shadow: none;\n",
              "  }\n",
              "\n",
              "  .colab-df-spinner {\n",
              "    border: 2px solid var(--fill-color);\n",
              "    border-color: transparent;\n",
              "    border-bottom-color: var(--fill-color);\n",
              "    animation:\n",
              "      spin 1s steps(1) infinite;\n",
              "  }\n",
              "\n",
              "  @keyframes spin {\n",
              "    0% {\n",
              "      border-color: transparent;\n",
              "      border-bottom-color: var(--fill-color);\n",
              "      border-left-color: var(--fill-color);\n",
              "    }\n",
              "    20% {\n",
              "      border-color: transparent;\n",
              "      border-left-color: var(--fill-color);\n",
              "      border-top-color: var(--fill-color);\n",
              "    }\n",
              "    30% {\n",
              "      border-color: transparent;\n",
              "      border-left-color: var(--fill-color);\n",
              "      border-top-color: var(--fill-color);\n",
              "      border-right-color: var(--fill-color);\n",
              "    }\n",
              "    40% {\n",
              "      border-color: transparent;\n",
              "      border-right-color: var(--fill-color);\n",
              "      border-top-color: var(--fill-color);\n",
              "    }\n",
              "    60% {\n",
              "      border-color: transparent;\n",
              "      border-right-color: var(--fill-color);\n",
              "    }\n",
              "    80% {\n",
              "      border-color: transparent;\n",
              "      border-right-color: var(--fill-color);\n",
              "      border-bottom-color: var(--fill-color);\n",
              "    }\n",
              "    90% {\n",
              "      border-color: transparent;\n",
              "      border-bottom-color: var(--fill-color);\n",
              "    }\n",
              "  }\n",
              "</style>\n",
              "\n",
              "  <script>\n",
              "    async function quickchart(key) {\n",
              "      const quickchartButtonEl =\n",
              "        document.querySelector('#' + key + ' button');\n",
              "      quickchartButtonEl.disabled = true;  // To prevent multiple clicks.\n",
              "      quickchartButtonEl.classList.add('colab-df-spinner');\n",
              "      try {\n",
              "        const charts = await google.colab.kernel.invokeFunction(\n",
              "            'suggestCharts', [key], {});\n",
              "      } catch (error) {\n",
              "        console.error('Error during call to suggestCharts:', error);\n",
              "      }\n",
              "      quickchartButtonEl.classList.remove('colab-df-spinner');\n",
              "      quickchartButtonEl.classList.add('colab-df-quickchart-complete');\n",
              "    }\n",
              "    (() => {\n",
              "      let quickchartButtonEl =\n",
              "        document.querySelector('#df-23e8fc08-7553-4f98-9ba6-3360107e2829 button');\n",
              "      quickchartButtonEl.style.display =\n",
              "        google.colab.kernel.accessAllowed ? 'block' : 'none';\n",
              "    })();\n",
              "  </script>\n",
              "</div>\n",
              "    </div>\n",
              "  </div>\n"
            ]
          },
          "metadata": {},
          "execution_count": 36
        }
      ]
    },
    {
      "cell_type": "code",
      "source": [
        "# Seprating Features(X) and Target(Y) columns\n",
        "# We will remove some columns which are not useful as a features\n",
        "\n",
        "X = titanic_data.drop(columns=['Name','Ticket','PassengerId','Survived'],axis=1)\n",
        "Y = titanic_data['Survived']"
      ],
      "metadata": {
        "id": "LNT2gQN4beRU"
      },
      "execution_count": 39,
      "outputs": []
    },
    {
      "cell_type": "code",
      "source": [
        "print(X)"
      ],
      "metadata": {
        "colab": {
          "base_uri": "https://localhost:8080/"
        },
        "id": "aa3PoVvVfSaB",
        "outputId": "95bd8cc4-ea1f-43f5-8063-6c916e933122"
      },
      "execution_count": 42,
      "outputs": [
        {
          "output_type": "stream",
          "name": "stdout",
          "text": [
            "     Pclass  Sex        Age  SibSp  Parch     Fare  Embarked\n",
            "0         3    0  22.000000      1      0   7.2500         0\n",
            "1         1    1  38.000000      1      0  71.2833         1\n",
            "2         3    1  26.000000      0      0   7.9250         0\n",
            "3         1    1  35.000000      1      0  53.1000         0\n",
            "4         3    0  35.000000      0      0   8.0500         0\n",
            "..      ...  ...        ...    ...    ...      ...       ...\n",
            "886       2    0  27.000000      0      0  13.0000         0\n",
            "887       1    1  19.000000      0      0  30.0000         0\n",
            "888       3    1  29.699118      1      2  23.4500         0\n",
            "889       1    0  26.000000      0      0  30.0000         1\n",
            "890       3    0  32.000000      0      0   7.7500         2\n",
            "\n",
            "[891 rows x 7 columns]\n"
          ]
        }
      ]
    },
    {
      "cell_type": "code",
      "source": [
        "print(Y)"
      ],
      "metadata": {
        "colab": {
          "base_uri": "https://localhost:8080/"
        },
        "id": "boisir_OgP7W",
        "outputId": "54dd1eb3-fa31-4191-8cbb-6a613a20106f"
      },
      "execution_count": 43,
      "outputs": [
        {
          "output_type": "stream",
          "name": "stdout",
          "text": [
            "0      0\n",
            "1      1\n",
            "2      1\n",
            "3      1\n",
            "4      0\n",
            "      ..\n",
            "886    0\n",
            "887    1\n",
            "888    0\n",
            "889    1\n",
            "890    0\n",
            "Name: Survived, Length: 891, dtype: int64\n"
          ]
        }
      ]
    },
    {
      "cell_type": "code",
      "source": [
        "# Splitting the dataset into traning and testing data\n",
        "\n",
        "X_train, X_test, Y_train, Y_test = train_test_split(X,Y,test_size=0.2,random_state=2)"
      ],
      "metadata": {
        "id": "uZSt-JN9fehw"
      },
      "execution_count": 44,
      "outputs": []
    },
    {
      "cell_type": "code",
      "source": [
        "print(X.shape,X_train.shape, X_test.shape)"
      ],
      "metadata": {
        "colab": {
          "base_uri": "https://localhost:8080/"
        },
        "id": "VkY0KMBUghFL",
        "outputId": "30d209a1-c53e-4eec-b3e6-a896576b2fb8"
      },
      "execution_count": 45,
      "outputs": [
        {
          "output_type": "stream",
          "name": "stdout",
          "text": [
            "(891, 7) (712, 7) (179, 7)\n"
          ]
        }
      ]
    },
    {
      "cell_type": "markdown",
      "source": [
        "# **5. Training And Evaluating Machine Learning Model**"
      ],
      "metadata": {
        "id": "sgEXvR93hPEI"
      }
    },
    {
      "cell_type": "code",
      "source": [
        "# I am using Logistic Regression Model here because it is appropriate for binary classification\n",
        "\n",
        "model = LogisticRegression()"
      ],
      "metadata": {
        "id": "oMuMpxhRhHiA"
      },
      "execution_count": 59,
      "outputs": []
    },
    {
      "cell_type": "code",
      "source": [
        "# traning the Logistic Regression Model with the traning data\n",
        "model.fit(X_train,Y_train)"
      ],
      "metadata": {
        "colab": {
          "base_uri": "https://localhost:8080/",
          "height": 213
        },
        "id": "1Dja_NhHiioC",
        "outputId": "6c968e36-cda4-4a2b-b83a-74c850f14345"
      },
      "execution_count": 47,
      "outputs": [
        {
          "output_type": "stream",
          "name": "stderr",
          "text": [
            "/usr/local/lib/python3.10/dist-packages/sklearn/linear_model/_logistic.py:458: ConvergenceWarning: lbfgs failed to converge (status=1):\n",
            "STOP: TOTAL NO. of ITERATIONS REACHED LIMIT.\n",
            "\n",
            "Increase the number of iterations (max_iter) or scale the data as shown in:\n",
            "    https://scikit-learn.org/stable/modules/preprocessing.html\n",
            "Please also refer to the documentation for alternative solver options:\n",
            "    https://scikit-learn.org/stable/modules/linear_model.html#logistic-regression\n",
            "  n_iter_i = _check_optimize_result(\n"
          ]
        },
        {
          "output_type": "execute_result",
          "data": {
            "text/plain": [
              "LogisticRegression()"
            ],
            "text/html": [
              "<style>#sk-container-id-1 {color: black;background-color: white;}#sk-container-id-1 pre{padding: 0;}#sk-container-id-1 div.sk-toggleable {background-color: white;}#sk-container-id-1 label.sk-toggleable__label {cursor: pointer;display: block;width: 100%;margin-bottom: 0;padding: 0.3em;box-sizing: border-box;text-align: center;}#sk-container-id-1 label.sk-toggleable__label-arrow:before {content: \"▸\";float: left;margin-right: 0.25em;color: #696969;}#sk-container-id-1 label.sk-toggleable__label-arrow:hover:before {color: black;}#sk-container-id-1 div.sk-estimator:hover label.sk-toggleable__label-arrow:before {color: black;}#sk-container-id-1 div.sk-toggleable__content {max-height: 0;max-width: 0;overflow: hidden;text-align: left;background-color: #f0f8ff;}#sk-container-id-1 div.sk-toggleable__content pre {margin: 0.2em;color: black;border-radius: 0.25em;background-color: #f0f8ff;}#sk-container-id-1 input.sk-toggleable__control:checked~div.sk-toggleable__content {max-height: 200px;max-width: 100%;overflow: auto;}#sk-container-id-1 input.sk-toggleable__control:checked~label.sk-toggleable__label-arrow:before {content: \"▾\";}#sk-container-id-1 div.sk-estimator input.sk-toggleable__control:checked~label.sk-toggleable__label {background-color: #d4ebff;}#sk-container-id-1 div.sk-label input.sk-toggleable__control:checked~label.sk-toggleable__label {background-color: #d4ebff;}#sk-container-id-1 input.sk-hidden--visually {border: 0;clip: rect(1px 1px 1px 1px);clip: rect(1px, 1px, 1px, 1px);height: 1px;margin: -1px;overflow: hidden;padding: 0;position: absolute;width: 1px;}#sk-container-id-1 div.sk-estimator {font-family: monospace;background-color: #f0f8ff;border: 1px dotted black;border-radius: 0.25em;box-sizing: border-box;margin-bottom: 0.5em;}#sk-container-id-1 div.sk-estimator:hover {background-color: #d4ebff;}#sk-container-id-1 div.sk-parallel-item::after {content: \"\";width: 100%;border-bottom: 1px solid gray;flex-grow: 1;}#sk-container-id-1 div.sk-label:hover label.sk-toggleable__label {background-color: #d4ebff;}#sk-container-id-1 div.sk-serial::before {content: \"\";position: absolute;border-left: 1px solid gray;box-sizing: border-box;top: 0;bottom: 0;left: 50%;z-index: 0;}#sk-container-id-1 div.sk-serial {display: flex;flex-direction: column;align-items: center;background-color: white;padding-right: 0.2em;padding-left: 0.2em;position: relative;}#sk-container-id-1 div.sk-item {position: relative;z-index: 1;}#sk-container-id-1 div.sk-parallel {display: flex;align-items: stretch;justify-content: center;background-color: white;position: relative;}#sk-container-id-1 div.sk-item::before, #sk-container-id-1 div.sk-parallel-item::before {content: \"\";position: absolute;border-left: 1px solid gray;box-sizing: border-box;top: 0;bottom: 0;left: 50%;z-index: -1;}#sk-container-id-1 div.sk-parallel-item {display: flex;flex-direction: column;z-index: 1;position: relative;background-color: white;}#sk-container-id-1 div.sk-parallel-item:first-child::after {align-self: flex-end;width: 50%;}#sk-container-id-1 div.sk-parallel-item:last-child::after {align-self: flex-start;width: 50%;}#sk-container-id-1 div.sk-parallel-item:only-child::after {width: 0;}#sk-container-id-1 div.sk-dashed-wrapped {border: 1px dashed gray;margin: 0 0.4em 0.5em 0.4em;box-sizing: border-box;padding-bottom: 0.4em;background-color: white;}#sk-container-id-1 div.sk-label label {font-family: monospace;font-weight: bold;display: inline-block;line-height: 1.2em;}#sk-container-id-1 div.sk-label-container {text-align: center;}#sk-container-id-1 div.sk-container {/* jupyter's `normalize.less` sets `[hidden] { display: none; }` but bootstrap.min.css set `[hidden] { display: none !important; }` so we also need the `!important` here to be able to override the default hidden behavior on the sphinx rendered scikit-learn.org. See: https://github.com/scikit-learn/scikit-learn/issues/21755 */display: inline-block !important;position: relative;}#sk-container-id-1 div.sk-text-repr-fallback {display: none;}</style><div id=\"sk-container-id-1\" class=\"sk-top-container\"><div class=\"sk-text-repr-fallback\"><pre>LogisticRegression()</pre><b>In a Jupyter environment, please rerun this cell to show the HTML representation or trust the notebook. <br />On GitHub, the HTML representation is unable to render, please try loading this page with nbviewer.org.</b></div><div class=\"sk-container\" hidden><div class=\"sk-item\"><div class=\"sk-estimator sk-toggleable\"><input class=\"sk-toggleable__control sk-hidden--visually\" id=\"sk-estimator-id-1\" type=\"checkbox\" checked><label for=\"sk-estimator-id-1\" class=\"sk-toggleable__label sk-toggleable__label-arrow\">LogisticRegression</label><div class=\"sk-toggleable__content\"><pre>LogisticRegression()</pre></div></div></div></div></div>"
            ]
          },
          "metadata": {},
          "execution_count": 47
        }
      ]
    },
    {
      "cell_type": "code",
      "source": [
        "# Model Evaluation by calculating accuracy score\n",
        "# Accuracy On Traning Data\n",
        "\n",
        "X_train_prediction = model.predict(X_train)\n"
      ],
      "metadata": {
        "id": "xBvhsGT7iumi"
      },
      "execution_count": 48,
      "outputs": []
    },
    {
      "cell_type": "code",
      "source": [
        "print(X_train_prediction)"
      ],
      "metadata": {
        "colab": {
          "base_uri": "https://localhost:8080/"
        },
        "id": "o7DpzhX_jzp2",
        "outputId": "49f8d378-9884-4e27-851e-b1b6ed3210d4"
      },
      "execution_count": 49,
      "outputs": [
        {
          "output_type": "stream",
          "name": "stdout",
          "text": [
            "[0 1 0 0 0 0 0 1 0 0 0 1 0 0 1 0 1 0 0 0 0 0 1 0 0 1 0 0 1 0 1 1 0 0 1 0 1\n",
            " 0 0 0 0 0 0 1 1 0 0 1 0 1 0 1 0 0 0 0 0 0 1 0 1 0 0 1 1 0 0 1 1 0 1 0 0 1\n",
            " 0 0 0 0 0 0 1 0 0 0 1 0 0 0 1 0 1 0 0 1 0 0 0 1 1 1 0 1 0 0 0 0 0 1 0 0 0\n",
            " 1 1 0 0 1 0 0 1 0 0 1 0 0 1 0 1 0 1 0 1 0 1 1 1 1 1 1 0 0 1 1 1 0 0 1 0 0\n",
            " 0 0 0 0 1 0 1 0 0 0 0 0 0 0 0 1 0 0 0 0 0 0 0 0 0 0 1 1 0 0 1 0 1 0 1 1 1\n",
            " 0 0 0 1 0 0 0 1 0 0 1 0 0 0 1 1 0 1 0 0 0 0 0 1 1 0 1 1 1 1 0 0 0 0 0 0 0\n",
            " 0 1 0 0 1 1 1 0 0 1 0 1 1 1 0 0 1 0 0 0 0 1 0 0 0 1 0 0 0 1 0 1 0 1 0 0 0\n",
            " 0 0 0 0 0 0 1 0 1 0 0 1 0 0 1 0 1 0 1 1 0 0 0 0 1 0 1 0 0 1 0 0 0 1 0 0 0\n",
            " 0 1 1 0 0 0 0 0 0 1 0 1 0 0 0 0 0 1 1 1 0 0 0 1 0 1 0 0 0 0 0 0 1 1 0 1 1\n",
            " 0 1 1 1 0 0 0 0 0 0 0 0 0 1 0 0 1 1 1 0 1 0 0 0 0 1 1 0 0 0 1 0 1 1 1 0 0\n",
            " 0 0 1 0 0 0 1 1 0 0 1 0 0 0 0 1 0 0 0 0 0 1 0 0 0 0 1 0 1 1 1 0 1 1 0 0 0\n",
            " 0 1 0 1 0 0 1 1 0 0 0 0 1 0 0 0 0 1 1 0 1 0 1 0 0 0 0 0 1 0 0 0 0 1 1 0 0\n",
            " 1 0 1 0 0 1 0 0 0 0 0 0 0 0 1 0 0 1 1 0 0 0 1 1 0 1 0 0 1 0 0 0 1 1 0 1 0\n",
            " 0 0 0 0 1 0 0 1 0 1 1 0 0 1 0 0 1 0 0 0 1 0 1 1 0 0 1 1 0 1 0 1 1 1 0 1 0\n",
            " 0 1 0 0 1 0 0 1 0 0 0 0 1 1 0 0 1 0 1 0 0 0 0 0 0 1 1 1 0 0 1 1 0 0 0 0 0\n",
            " 0 0 0 0 0 0 0 0 0 0 0 0 1 0 0 0 1 1 0 0 0 0 0 0 0 0 0 0 0 0 1 0 1 0 0 0 0\n",
            " 0 0 1 0 0 0 0 0 1 0 1 0 1 0 0 0 1 0 1 1 1 0 0 0 1 0 1 0 0 0 1 1 1 0 0 1 1\n",
            " 0 0 0 1 0 1 0 0 0 0 0 1 1 0 1 1 1 0 0 0 1 0 0 0 0 1 0 0 0 1 0 0 1 0 0 0 0\n",
            " 1 0 0 1 0 1 0 0 0 1 1 1 1 1 0 0 1 1 0 1 1 1 1 0 0 0 1 1 0 0 1 0 0 0 0 0 0\n",
            " 0 0 0 1 1 0 0 1 0]\n"
          ]
        }
      ]
    },
    {
      "cell_type": "code",
      "source": [
        "traning_data_accuracy = accuracy_score(Y_train,X_train_prediction)\n",
        "print('Accuracy score of traning data: ', traning_data_accuracy)"
      ],
      "metadata": {
        "colab": {
          "base_uri": "https://localhost:8080/"
        },
        "id": "tTbu0K9Aj4xU",
        "outputId": "b2bf74d4-6cdd-4f20-9e06-0052bc7af841"
      },
      "execution_count": 54,
      "outputs": [
        {
          "output_type": "stream",
          "name": "stdout",
          "text": [
            "Accuracy score of traning data:  0.8075842696629213\n"
          ]
        }
      ]
    },
    {
      "cell_type": "code",
      "source": [
        "# Accuracy on test data\n",
        "X_test_prediction = model.predict(X_test)"
      ],
      "metadata": {
        "id": "aZUbV8XokUEB"
      },
      "execution_count": 55,
      "outputs": []
    },
    {
      "cell_type": "code",
      "source": [
        "print(X_test_prediction)"
      ],
      "metadata": {
        "colab": {
          "base_uri": "https://localhost:8080/"
        },
        "id": "iFupjG1glvlv",
        "outputId": "ec12ef9b-79bd-4e5c-8f16-c4e66fae281c"
      },
      "execution_count": 57,
      "outputs": [
        {
          "output_type": "stream",
          "name": "stdout",
          "text": [
            "[0 0 1 0 0 0 0 0 0 0 0 1 1 0 0 1 0 0 1 0 1 1 0 1 0 1 1 0 0 0 0 0 0 0 0 1 1\n",
            " 0 0 0 0 0 1 0 0 1 1 0 0 1 0 0 0 0 0 0 1 0 0 0 1 0 0 0 1 0 1 0 0 0 1 0 1 0\n",
            " 1 0 0 0 1 0 1 0 0 0 1 1 0 0 1 0 0 0 0 0 0 1 0 1 0 0 1 0 1 1 0 1 1 0 0 0 0\n",
            " 0 0 0 1 1 0 1 0 0 1 0 0 0 0 0 0 1 0 0 0 0 1 1 0 0 0 0 0 0 1 1 1 1 0 1 0 0\n",
            " 0 1 0 0 0 0 1 0 0 1 1 0 1 0 0 0 1 1 0 0 1 0 0 1 1 1 0 0 0 0 0]\n"
          ]
        }
      ]
    },
    {
      "cell_type": "code",
      "source": [
        "test_data_accuracy = accuracy_score(Y_test,X_test_prediction)\n",
        "print('Accuracy score of testing data: ', test_data_accuracy)"
      ],
      "metadata": {
        "colab": {
          "base_uri": "https://localhost:8080/"
        },
        "id": "rbjcVFislyjl",
        "outputId": "2b1cbc66-da45-427f-ae2b-0e1670ed7286"
      },
      "execution_count": 61,
      "outputs": [
        {
          "output_type": "stream",
          "name": "stdout",
          "text": [
            "Accuracy score of testing data:  0.7821229050279329\n"
          ]
        }
      ]
    },
    {
      "cell_type": "code",
      "source": [
        " # The accuracy score for Train and Test data is nearly equal & which is approximately equal to 80%.\n",
        " # Which concludes that, our model is good fit on test as well train dataset.\n",
        " # Our model is predicting survival of Titanic passengers with nearly 80% accuracy.\n",
        "\n"
      ],
      "metadata": {
        "id": "kuOit7eFmBR3"
      },
      "execution_count": 62,
      "outputs": []
    },
    {
      "cell_type": "code",
      "source": [],
      "metadata": {
        "id": "O-Zif01Wpgh9"
      },
      "execution_count": null,
      "outputs": []
    }
  ]
}